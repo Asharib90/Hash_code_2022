{
  "nbformat": 4,
  "nbformat_minor": 0,
  "metadata": {
    "colab": {
      "name": "hash_code_round_1.ipynb",
      "provenance": [],
      "collapsed_sections": []
    },
    "kernelspec": {
      "name": "python3",
      "display_name": "Python 3"
    },
    "language_info": {
      "name": "python"
    }
  },
  "cells": [
    {
      "cell_type": "code",
      "execution_count": null,
      "metadata": {
        "id": "n6LqCM2xrGUD"
      },
      "outputs": [],
      "source": [
        "import shutil"
      ]
    },
    {
      "cell_type": "code",
      "source": [
        "shutil.unpack_archive('input_data.zip','/content/' )"
      ],
      "metadata": {
        "id": "0UiKtfxb5apD"
      },
      "execution_count": null,
      "outputs": []
    },
    {
      "cell_type": "code",
      "source": [
        "my_file = open(\"f_find_great_mentors.in.txt\", \"r\")\n",
        "content_list = my_file.read().replace('\\n', ',').split(',')\n",
        "# print(content_list)"
      ],
      "metadata": {
        "id": "dKmbgU2z5pUZ"
      },
      "execution_count": null,
      "outputs": []
    },
    {
      "cell_type": "code",
      "source": [
        "index=1\n",
        "skill={}\n",
        "\n",
        "for con in range(1,int(content_list[0].split(' ')[0])+1):\n",
        "  contribut_index=index\n",
        "  skill[content_list[contribut_index].split(' ')[0]]={}\n",
        "        \n",
        "  for con1 in range(int(content_list[index].split(' ')[1])):\n",
        "    \n",
        "    index=index+1\n",
        "    skill[content_list[contribut_index].split(' ')[0]][content_list[index].split(' ')[0]]=int(content_list[index].split(' ')[1])\n",
        "    \n",
        "  index=index+1\n",
        "\n",
        "# skill"
      ],
      "metadata": {
        "id": "EjLzdz9y5zBK"
      },
      "execution_count": null,
      "outputs": []
    },
    {
      "cell_type": "code",
      "source": [
        "projects={}\n",
        "for pro in range(1,int(content_list[0].split(' ')[1])+1):\n",
        "\n",
        "  project_index=index\n",
        "  projects[content_list[project_index].split(' ')[0]]={}\n",
        "\n",
        "  for pro1 in range(int(content_list[index].split(' ')[-1])):\n",
        "\n",
        "    index=index+1\n",
        "    projects[content_list[project_index].split(' ')[0]][content_list[index].split(' ')[0]]=int(content_list[index].split(' ')[1])\n",
        "    \n",
        "  index=index+1\n",
        "\n",
        "# projects"
      ],
      "metadata": {
        "id": "MJMD4mrx6R5S"
      },
      "execution_count": null,
      "outputs": []
    },
    {
      "cell_type": "code",
      "source": [
        "out={}\n",
        "\n",
        "for pk, pv in projects.items():\n",
        "  out[pk]=[]\n",
        "\n",
        "  for pk1, pv1 in pv.items():\n",
        "\n",
        "    for ck, cv in skill.items():\n",
        "      for ck1, cv1 in cv.items():\n",
        "\n",
        "        if pk1 == ck1:\n",
        "          if pv1 <= cv1:\n",
        "            \n",
        "            out[pk].append(ck)\n",
        "\n",
        "\n",
        "\n",
        "\n",
        "# out"
      ],
      "metadata": {
        "id": "5lC1ES4JEeSw"
      },
      "execution_count": null,
      "outputs": []
    },
    {
      "cell_type": "code",
      "source": [
        "check=0\n",
        "for k,v in out.items():\n",
        "\n",
        "  for k1,v1 in enumerate(v):\n",
        "    check=0\n",
        "\n",
        "    for k2,v2 in out.items():\n",
        "      \n",
        "      if (len(v2)-1) >= k1 and v2[k1]==v1:\n",
        "\n",
        "        check=check+1\n",
        "\n",
        "        if check >= 2:\n",
        "\n",
        "          out[k2]=[]\n",
        "\n",
        "# out"
      ],
      "metadata": {
        "id": "OcwjYhWqE6yv"
      },
      "execution_count": null,
      "outputs": []
    },
    {
      "cell_type": "code",
      "source": [
        "for pk, pv in projects.items():\n",
        "  if out[pk]==len(pv):\n",
        "    out[pk]=[]"
      ],
      "metadata": {
        "id": "ZF99hGmJkP94"
      },
      "execution_count": null,
      "outputs": []
    },
    {
      "cell_type": "code",
      "source": [
        "# for k,v in enumerate(list(out.values())):\n",
        "#   if len(v) == 0:\n",
        "#     print(list(out)[k])\n",
        "    # del out[list(out)[k]]\n",
        "\n",
        "# out\n",
        "count=0\n",
        "for k,v in out.items():\n",
        "  if len(v)!=0:\n",
        "    count+1"
      ],
      "metadata": {
        "id": "GkfzYaHsE5C3"
      },
      "execution_count": null,
      "outputs": []
    },
    {
      "cell_type": "code",
      "source": [
        "with open('file.txt', 'w') as file:\n",
        "  file.write(str(len(out)-count)+'\\n') \n",
        "  for k,v in out.items():\n",
        "    if len(v)!=0:\n",
        "      file.write(k+'\\n') \n",
        "      for i in range(len(out[k])):\n",
        "        file.write(out[k][i]+' ') \n",
        "      file.write('\\n')"
      ],
      "metadata": {
        "id": "ls4R1QPtZSFA"
      },
      "execution_count": null,
      "outputs": []
    },
    {
      "cell_type": "code",
      "source": [
        "\n"
      ],
      "metadata": {
        "id": "TJIuftDgZ6Fk"
      },
      "execution_count": null,
      "outputs": []
    },
    {
      "cell_type": "code",
      "source": [
        ""
      ],
      "metadata": {
        "id": "l-4wTSwqmbDJ"
      },
      "execution_count": null,
      "outputs": []
    }
  ]
}